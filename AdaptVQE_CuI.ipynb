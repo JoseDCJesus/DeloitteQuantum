{
 "cells": [
  {
   "cell_type": "code",
   "execution_count": 1,
   "id": "2a8c6486-3409-43ef-936f-0c090c4a21d7",
   "metadata": {},
   "outputs": [],
   "source": [
    "from qiskit.algorithms.minimum_eigensolvers import AdaptVQE, VQE\n",
    "from qiskit_aer.primitives import Estimator\n",
    "from qiskit_nature.problems.second_quantization import ElectronicStructureProblem\n",
    "from qiskit_nature.converters.second_quantization import QubitConverter\n",
    "from qiskit_nature.mappers.second_quantization import JordanWignerMapper, ParityMapper\n",
    "from qiskit_nature.circuit.library import UCCSD, HartreeFock\n",
    "from qiskit.algorithms.optimizers import COBYLA\n",
    "from qiskit.opflow import TwoQubitReduction\n",
    "from qiskit_nature.drivers.second_quantization import ElectronicStructureMoleculeDriver, ElectronicStructureDriverType\n",
    "from qiskit_nature.drivers import Molecule\n",
    "from qiskit_nature.transformers.second_quantization.electronic import ActiveSpaceTransformer\n",
    "from qiskit_nature.drivers import Molecule\n",
    "from qiskit_nature.drivers.second_quantization import (ElectronicStructureMoleculeDriver, ElectronicStructureDriverType)\n",
    "import numpy as np\n",
    "import pennylane as qml"
   ]
  },
  {
   "cell_type": "markdown",
   "id": "61bb95af-9fc9-4ab3-9f10-d3ec7e123579",
   "metadata": {},
   "source": [
    "Define Molecule"
   ]
  },
  {
   "cell_type": "code",
   "execution_count": 2,
   "id": "5f952eb6-2496-4629-ae0d-8aea8cb63373",
   "metadata": {},
   "outputs": [],
   "source": [
    "#Get Structure from xyz file\n",
    "symbols, coordinates = qml.qchem.read_structure('CuI/CO2/step_000.xyz')\n",
    "\n",
    "laux = []\n",
    "\n",
    "for i in range(4):\n",
    "    aux = []\n",
    "    for j in range(3):\n",
    "        aux.append(float(coordinates[i*3+j])*0.52917721067121)\n",
    "    laux.append(aux)\n",
    "    \n",
    "\n",
    "from qiskit_nature.drivers import Molecule\n",
    "from qiskit_nature.drivers.second_quantization import (\n",
    "    ElectronicStructureMoleculeDriver, ElectronicStructureDriverType)\n",
    "\n",
    "# Define Molecule\n",
    "molecule = Molecule(\n",
    "    # Coordinates in Angstrom\n",
    "    geometry=[\n",
    "        [\"Cu\", laux[0]],\n",
    "        [\"O\", laux[1]],\n",
    "        [\"C\", laux[2]],\n",
    "        [\"O\", laux[3]]\n",
    "    ],\n",
    "    multiplicity=1,  # = 2*spin + 1\n",
    "    charge=1,\n",
    ")\n"
   ]
  },
  {
   "cell_type": "markdown",
   "id": "efcbe1ac-45cd-4100-a9f0-71200ca7bf34",
   "metadata": {},
   "source": [
    "Define VQE "
   ]
  },
  {
   "cell_type": "code",
   "execution_count": 3,
   "id": "53152689-24ce-48d8-90bc-f5fa42993823",
   "metadata": {},
   "outputs": [],
   "source": [
    "#Define and run driver\n",
    "driver = ElectronicStructureMoleculeDriver(\n",
    "    molecule, basis=\"cc-pVDZ\", driver_type=ElectronicStructureDriverType.PYSCF\n",
    ")\n",
    "q_molecule = driver.run()\n",
    "\n",
    "\n",
    "#Convert Fermionic operators to qubit operatos and get Electronic Structure Problem\n",
    "qubit_converter = QubitConverter(ParityMapper(), two_qubit_reduction=True)\n",
    "es_problem = ElectronicStructureProblem(driver, [ActiveSpaceTransformer(4,4)])\n",
    "\n",
    "#Get Hamiltonian/Qubit Operator\n",
    "second_q_op = es_problem.second_q_ops()\n",
    "qubit_op = qubit_converter.convert(second_q_op['ElectronicEnergy'])\n",
    "reducer = TwoQubitReduction(es_problem.num_particles)\n",
    "qubit_op = reducer.convert(qubit_op)\n",
    "num_qubits = es_problem.num_spin_orbitals-2\n",
    "\n",
    "#Define Initial Ansatz = HF + UCCSD\n",
    "\n",
    "HF_state = HartreeFock(num_spin_orbitals=es_problem.num_spin_orbitals-2,\n",
    "                                                       num_particles=es_problem.num_particles,\n",
    "                                                       qubit_converter=qubit_converter)\n",
    "\n",
    "ansatz = UCCSD(qubit_converter=qubit_converter,\n",
    "                     num_particles=es_problem.num_particles,\n",
    "                     num_spin_orbitals=es_problem.num_spin_orbitals-2,\n",
    "                     initial_state=HF_state)\n",
    "\n",
    "VQE_instance = VQE(ansatz=ansatz,\n",
    "                   optimizer=COBYLA(),\n",
    "                   estimator=Estimator(approximation=False),\n",
    "                   initial_point=np.zeros(ansatz.num_parameters),\n",
    "                   callback=None)\n"
   ]
  },
  {
   "cell_type": "markdown",
   "id": "b7cf0fa7-c0a1-406a-bff8-6abaf0ff9dd8",
   "metadata": {},
   "source": [
    "Run ADAPT-VQE"
   ]
  },
  {
   "cell_type": "code",
   "execution_count": null,
   "id": "f31f7c15-1134-427d-91f4-a9566a2113da",
   "metadata": {},
   "outputs": [],
   "source": [
    "import time\n",
    "start = time.time()\n",
    "AdaptVQE_instance = AdaptVQE(VQE_instance)\n",
    "\n",
    "result = AdaptVQE_instance.compute_minimum_eigenvalue(qubit_op)\n",
    "print(result)\n",
    "print(result.optimal_circuit.decompose())\n",
    "AdaptVQE_instance.ansatz = result.optimal_circuit\n",
    "print(AdaptVQE_instance.ansatz.decompose())\n",
    "end = time.time()\n",
    "\n",
    "print(\"TIME: \", start- end)"
   ]
  },
  {
   "cell_type": "code",
   "execution_count": null,
   "id": "8acdee1d-2a6f-433a-8fa4-ec04e33a295f",
   "metadata": {},
   "outputs": [],
   "source": [
    "f= open('AnsatzCuI.txt', 'w')\n",
    "f.write(str(teste.decompose().draw('text')))\n",
    "f.close()"
   ]
  }
 ],
 "metadata": {
  "kernelspec": {
   "display_name": "Python 3 (Intel® oneAPI 2023.0)",
   "language": "python",
   "name": "c009-intel_distribution_of_python_3_oneapi-beta05-python"
  },
  "language_info": {
   "codemirror_mode": {
    "name": "ipython",
    "version": 3
   },
   "file_extension": ".py",
   "mimetype": "text/x-python",
   "name": "python",
   "nbconvert_exporter": "python",
   "pygments_lexer": "ipython3",
   "version": "3.9.15"
  }
 },
 "nbformat": 4,
 "nbformat_minor": 5
}
